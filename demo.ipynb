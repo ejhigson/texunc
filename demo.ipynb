{
 "cells": [
  {
   "cell_type": "markdown",
   "metadata": {},
   "source": [
    "# texunc demo\n",
    "\n",
    "### Simple example\n",
    "\n",
    "Given a value and its numerical uncertainty, `texunc` outputs a string with the uncertainty on the final digit shown in brackets. The number of decimal places is the determined by the size of the error (with a minimum number specified)."
   ]
  },
  {
   "cell_type": "code",
   "execution_count": null,
   "metadata": {},
   "outputs": [],
   "source": [
    "import texunc\n",
    "\n",
    "value = 1.234 * 1e-6\n",
    "uncertainty = 5 * 1e-9\n",
    "texunc.latex_form(value, uncertainty)"
   ]
  },
  {
   "cell_type": "markdown",
   "metadata": {},
   "source": [
    "### Use with pandas MultiIndex \n",
    "\n",
    "`texunc` was designed to output results tables in this format for inclusion in LaTeX.\n",
    "\n",
    "First, make an example table: "
   ]
  },
  {
   "cell_type": "code",
   "execution_count": null,
   "metadata": {},
   "outputs": [],
   "source": [
    "import numpy as np\n",
    "import pandas as pd\n",
    "import itertools\n",
    "\n",
    "np.random.seed(0)\n",
    "tups = list(itertools.product(('farm 1', 'farm 2'), ('value', 'uncertainty')))\n",
    "index = pd.MultiIndex.from_tuples(tups, names=['farm', 'result type'])\n",
    "values = np.random.random((4, 2))\n",
    "values[::2, :] *= 100\n",
    "df = pd.DataFrame(values, columns=['apples', 'oranges'], index=index)\n",
    "df"
   ]
  },
  {
   "cell_type": "markdown",
   "metadata": {},
   "source": [
    "We can return a table with each value and uncertainty formatted:"
   ]
  },
  {
   "cell_type": "code",
   "execution_count": null,
   "metadata": {},
   "outputs": [],
   "source": [
    "texunc.latex_format_df(df)"
   ]
  },
  {
   "cell_type": "markdown",
   "metadata": {},
   "source": [
    "We can also print this table out in LaTeX format ready to copy-paste into a TeX file:"
   ]
  },
  {
   "cell_type": "code",
   "execution_count": null,
   "metadata": {},
   "outputs": [],
   "source": [
    "_ = texunc.print_latex_df(df)"
   ]
  }
 ],
 "metadata": {
  "kernelspec": {
   "display_name": "Python 3",
   "language": "python",
   "name": "python3"
  },
  "language_info": {
   "codemirror_mode": {
    "name": "ipython",
    "version": 3
   },
   "file_extension": ".py",
   "mimetype": "text/x-python",
   "name": "python",
   "nbconvert_exporter": "python",
   "pygments_lexer": "ipython3",
   "version": "3.6.3"
  }
 },
 "nbformat": 4,
 "nbformat_minor": 2
}
